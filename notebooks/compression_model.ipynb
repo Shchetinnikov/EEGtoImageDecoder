{
 "cells": [
  {
   "cell_type": "code",
   "execution_count": 6,
   "metadata": {},
   "outputs": [],
   "source": [
    "import os\n",
    "\n",
    "import mne\n",
    "import torch\n",
    "from torch import nn"
   ]
  },
  {
   "cell_type": "code",
   "execution_count": 85,
   "metadata": {},
   "outputs": [],
   "source": [
    "class ChannelCompressionNet(nn.Module):\n",
    "    def __init__(self, in_channels=128, inter_channels=64, out_channels=32):\n",
    "        super().__init__()\n",
    "\n",
    "        self.model = nn.Sequential(\n",
    "            nn.Conv1d(in_channels, inter_channels, kernel_size=1, padding=0, bias=False),\n",
    "            nn.BatchNorm1d(inter_channels),\n",
    "            nn.ReLU(),\n",
    "            nn.Conv1d(inter_channels, out_channels, kernel_size=1, padding=0, bias=False),\n",
    "            nn.BatchNorm1d(out_channels),\n",
    "            nn.ReLU()\n",
    "        )\n",
    "\n",
    "    def forward(self, batch):\n",
    "        return self.model(batch)"
   ]
  },
  {
   "cell_type": "code",
   "execution_count": 86,
   "metadata": {},
   "outputs": [],
   "source": [
    "model = ChannelCompressionNet(in_channels=31, inter_channels=15, out_channels=6)"
   ]
  },
  {
   "cell_type": "code",
   "execution_count": 81,
   "metadata": {},
   "outputs": [],
   "source": [
    "path = rf'..\\datasets\\tuab_resampled\\tuh_eeg_abnormal\\v3.0.1\\edf\\train\\normal\\01_tcp_ar'\n",
    "file_path = path + '\\\\' + os.listdir(path)[300]\n",
    "\n",
    "data = mne.io.read_raw_edf(file_path, verbose=False)\n",
    "raw = torch.Tensor(data.get_data())\n",
    "raw = torch.unsqueeze(raw, 0)"
   ]
  },
  {
   "cell_type": "code",
   "execution_count": 82,
   "metadata": {},
   "outputs": [
    {
     "name": "stdout",
     "output_type": "stream",
     "text": [
      "output[0,:,0] tensor([0.1831, 0.0000, 0.0000, 0.1007, 0.1521, 0.2575],\n",
      "       grad_fn=<SelectBackward0>)\n"
     ]
    }
   ],
   "source": [
    "output = model(raw)\n",
    "print('output[0,:,0]', output[0,:,0])"
   ]
  },
  {
   "cell_type": "code",
   "execution_count": 48,
   "metadata": {},
   "outputs": [
    {
     "data": {
      "text/plain": [
       "torch.Size([1, 24, 250])"
      ]
     },
     "execution_count": 48,
     "metadata": {},
     "output_type": "execute_result"
    }
   ],
   "source": [
    "output.shape"
   ]
  },
  {
   "cell_type": "code",
   "execution_count": 49,
   "metadata": {},
   "outputs": [
    {
     "data": {
      "text/plain": [
       "tensor([[[-3.8782e-06, -3.3607e-06, -3.0319e-06,  ...,  1.1352e-05,\n",
       "           1.2021e-05,  1.2693e-05],\n",
       "         [ 2.4201e-05,  2.4189e-05,  2.3921e-05,  ...,  9.6291e-07,\n",
       "           2.1408e-06,  3.3232e-06],\n",
       "         [-1.5469e-06, -1.3426e-06, -1.8599e-06,  ...,  1.7716e-05,\n",
       "           1.8497e-05,  1.9276e-05],\n",
       "         ...,\n",
       "         [-1.3349e-05, -1.1634e-05, -1.0831e-05,  ..., -1.1218e-05,\n",
       "          -1.2756e-05, -1.4299e-05],\n",
       "         [-3.9100e-06, -4.2564e-06, -4.3806e-06,  ..., -1.1413e-05,\n",
       "          -1.0916e-05, -1.0420e-05],\n",
       "         [ 1.8453e-06,  2.1054e-06,  2.1366e-06,  ...,  8.5933e-06,\n",
       "           6.7056e-06,  4.8203e-06]]], grad_fn=<ConvolutionBackward0>)"
      ]
     },
     "execution_count": 49,
     "metadata": {},
     "output_type": "execute_result"
    }
   ],
   "source": [
    "output"
   ]
  },
  {
   "cell_type": "code",
   "execution_count": null,
   "metadata": {},
   "outputs": [],
   "source": []
  }
 ],
 "metadata": {
  "kernelspec": {
   "display_name": ".venv",
   "language": "python",
   "name": "python3"
  },
  "language_info": {
   "codemirror_mode": {
    "name": "ipython",
    "version": 3
   },
   "file_extension": ".py",
   "mimetype": "text/x-python",
   "name": "python",
   "nbconvert_exporter": "python",
   "pygments_lexer": "ipython3",
   "version": "3.10.10"
  }
 },
 "nbformat": 4,
 "nbformat_minor": 2
}
